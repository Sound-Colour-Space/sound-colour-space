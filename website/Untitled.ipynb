{
 "cells": [
  {
   "cell_type": "code",
   "execution_count": 36,
   "metadata": {
    "collapsed": false
   },
   "outputs": [
    {
     "data": {
      "text/plain": [
       "[<Keyword: sepp>, <Keyword: foo>, <Keyword: bar>]"
      ]
     },
     "execution_count": 36,
     "metadata": {},
     "output_type": "execute_result"
    }
   ],
   "source": [
    "\n",
    "TaggedObject.objects.all()\n",
    "k = Keyword.objects.all()\n",
    "k[0].museums_tagged_objects.all()\n",
    "\n",
    "e = Entry.objects.all()\n",
    "e[0].tags.all()\n",
    "\n",
    "t = Keyword(name='foobar')\n",
    "\n",
    "foo, created = Keyword.objects.update_or_create(name='foo')\n",
    "foo, created = Keyword.objects.update_or_create(name='foo')\n",
    "bar, created = Keyword.objects.update_or_create(name='bar')\n",
    "sepp, created = Keyword.objects.update_or_create(name='sepp')\n",
    "\n",
    "e[0].image\n",
    "\n",
    "#t.save()\n",
    "e[0].tags.add(foo, bar, foo, sepp)\n",
    "#e[0].save()\n",
    "\n",
    "e[0].tags.all()\n",
    "\n",
    "#t = k.get(term='test')\n",
    "\n",
    "#k.museums_keywords_items.all()\n",
    "\n",
    "\n",
    "#a = Author.objects.all()\n",
    "#d = a.get(last_name='Descartes')\n",
    "#d.museums_entries.all()\n"
   ]
  },
  {
   "cell_type": "code",
   "execution_count": 22,
   "metadata": {
    "collapsed": false
   },
   "outputs": [],
   "source": [
    "from django.utils.text import slugify\n",
    "\n",
    "cols = Collection.objects.all()\n",
    "\n",
    "for c in cols:\n",
    "    slug = slugify(c, allow_unicode=True)\n",
    "    c.slug = slug\n",
    "    c.save()\n",
    "    "
   ]
  }
 ],
 "metadata": {
  "kernelspec": {
   "display_name": "Django Shell-Plus",
   "language": "python",
   "name": "django_extensions"
  },
  "language_info": {
   "codemirror_mode": {
    "name": "ipython",
    "version": 2
   },
   "file_extension": ".py",
   "mimetype": "text/x-python",
   "name": "python",
   "nbconvert_exporter": "python",
   "pygments_lexer": "ipython2",
   "version": "2.7.12"
  }
 },
 "nbformat": 4,
 "nbformat_minor": 1
}
